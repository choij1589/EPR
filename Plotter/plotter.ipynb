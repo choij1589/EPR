{
 "metadata": {
  "language_info": {
   "codemirror_mode": {
    "name": "ipython",
    "version": 3
   },
   "file_extension": ".py",
   "mimetype": "text/x-python",
   "name": "python",
   "nbconvert_exporter": "python",
   "pygments_lexer": "ipython3",
   "version": "3.8.6-final"
  },
  "orig_nbformat": 2,
  "kernelspec": {
   "name": "Python 3.8.6 64-bit ('cern': conda)",
   "display_name": "Python 3.8.6 64-bit ('cern': conda)",
   "metadata": {
    "interpreter": {
     "hash": "69e4708cff72499eb41f1b98f13decf2deaf6dbdff724f1e5ac230bf82fb426f"
    }
   }
  }
 },
 "nbformat": 4,
 "nbformat_minor": 2,
 "cells": [
  {
   "cell_type": "code",
   "execution_count": 1,
   "metadata": {},
   "outputs": [
    {
     "output_type": "stream",
     "name": "stdout",
     "text": [
      "Welcome to JupyROOT 6.22/02\n"
     ]
    }
   ],
   "source": [
    "from ROOT import *\n",
    "import subprocess\n",
    "from plotterBase import plotterBase"
   ]
  },
  {
   "cell_type": "code",
   "execution_count": 2,
   "metadata": {},
   "outputs": [],
   "source": [
    "# get data\n",
    "pwd = subprocess.check_output(\"echo $PWD\", shell=True, encoding=\"utf-8\")\n",
    "pwd = pwd.rstrip(\"\\n\")\n",
    "\n",
    "path_selOutput = pwd + \"/../SelectorOutput/DrellYan/\"\n",
    "file_names = [\"DYtest\", \n",
    "              \"DY_inclusive_0j_nlo\",                                      \n",
    "              \"DY_inclusive_012j_nlo\"]\n",
    "\n",
    "# get TFiles\n",
    "files = {}\n",
    "for file_name in file_names:\n",
    "    this_path = path_selOutput + file_name + \".root\"\n",
    "    files[file_name] = TFile(this_path)"
   ]
  },
  {
   "cell_type": "code",
   "execution_count": 3,
   "metadata": {
    "tags": []
   },
   "outputs": [
    {
     "output_type": "display_data",
     "data": {
      "image/png": "[encoded data removed]",
      "text/plain": "<IPython.core.display.Image object>"
     },
     "metadata": {}
    }
   ],
   "source": [
    "hists = {}\n",
    "hist_name = \"ZMass_ee\"\n",
    "x_axis = \"M(ee)\"\n",
    "y_axis = \"A.U\"\n",
    "\n",
    "for file_name in file_names:\n",
    "    if file_name == \"DYtest\":\n",
    "        hist_path = \"DYm50/\" + hist_name\n",
    "        hist = files[file_name].Get(hist_path)\n",
    "        hist.Rebin(10)\n",
    "        hists[file_name] = hist\n",
    "    elif file_name == \"DY_inclusive_0j_nlo\":\n",
    "        hist_path = file_name + \"/\" + hist_name\n",
    "        hist = files[file_name].Get(hist_path)\n",
    "        hist.Rebin(10)\n",
    "        hists[file_name] = hist\n",
    "    elif file_name == \"DY_inclusive_012j_nlo\":\n",
    "        hist_path = file_name + \"/\" + hist_name\n",
    "        hist = files[file_name].Get(hist_path)\n",
    "        hist.Rebin(10)\n",
    "        hists[file_name] = hist\n",
    "    else:\n",
    "        raise(NameError)\n",
    "\n",
    "plt = plotterBase(\"normal\")\n",
    "plt.get_hists(hists_exp=hists)\n",
    "cvs = plt.canvas(deco_type=\"normalize\", x_title=x_axis, y_title=y_axis)\n",
    "cvs.Draw()"
   ]
  },
  {
   "cell_type": "code",
   "execution_count": null,
   "metadata": {},
   "outputs": [],
   "source": []
  }
 ]
}